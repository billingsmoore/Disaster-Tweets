{
 "cells": [
  {
   "cell_type": "markdown",
   "metadata": {},
   "source": [
    "# Recurrent Neural Network for Disaster Tweets \n",
    "\n",
    "## Introduction\n",
    "\n",
    "This project consists of a Recurrent Neural Network which determines whether or not a given tweet describes a real disaster. The data set from this project comes from the Kaggle competition here:\n",
    "\n",
    "https://www.kaggle.com/competitions/nlp-getting-started/\n",
    "\n",
    "The github repo for my project can be found here:\n",
    "\n"
   ]
  },
  {
   "cell_type": "markdown",
   "metadata": {},
   "source": [
    "## Exploratory Data Analysis\n",
    "\n",
    "The training data for this project consists of a csv containing the columns id (an id number for the tweet), keyword (an important keyword from the tweet), location (where the tweet came from), text (the content of the tweet itself), and target (whether or not the tweet describes an actual disaster; encoded as 1 for yes and 0 for no). \n",
    "\n",
    "### Visualization\n",
    "\n",
    "You can see below that the target variable is skewed slightly toward 0 but this isn't necessarily an issue."
   ]
  },
  {
   "cell_type": "code",
   "execution_count": 2,
   "metadata": {},
   "outputs": [],
   "source": [
    "import pandas as pd\n",
    "\n",
    "df = pd.read_csv('train.csv')"
   ]
  },
  {
   "cell_type": "code",
   "execution_count": 3,
   "metadata": {},
   "outputs": [
    {
     "data": {
      "text/plain": [
       "array([[<Axes: title={'center': 'target'}>]], dtype=object)"
      ]
     },
     "execution_count": 3,
     "metadata": {},
     "output_type": "execute_result"
    },
    {
     "data": {
      "image/png": "[encoded data removed]",
      "text/plain": [
       "<Figure size 640x480 with 1 Axes>"
      ]
     },
     "metadata": {},
     "output_type": "display_data"
    }
   ],
   "source": [
    "df.hist('target')"
   ]
  },
  {
   "cell_type": "markdown",
   "metadata": {},
   "source": [
    "### Text Examples\n",
    "\n",
    "Tweets with a 0 target, which do not describe a disaster, look like this:"
   ]
  },
  {
   "cell_type": "code",
   "execution_count": 4,
   "metadata": {},
   "outputs": [
    {
     "data": {
      "text/plain": [
       "[\"What's up man?\",\n",
       " 'I love fruits',\n",
       " 'Summer is lovely',\n",
       " 'My car is so fast',\n",
       " 'What a goooooooaaaaaal!!!!!!']"
      ]
     },
     "execution_count": 4,
     "metadata": {},
     "output_type": "execute_result"
    }
   ],
   "source": [
    "list(df[df['target']==0]['text'].values[0:5])"
   ]
  },
  {
   "cell_type": "markdown",
   "metadata": {},
   "source": [
    "We can see that they do not necessarily mention anything about a disaster, real or fictional, but may be about pretty much anything.\n",
    "\n",
    "In contrast, tweets whose target is 1, which do describe a disaster, look like this:"
   ]
  },
  {
   "cell_type": "code",
   "execution_count": 5,
   "metadata": {},
   "outputs": [
    {
     "data": {
      "text/plain": [
       "['Our Deeds are the Reason of this #earthquake May ALLAH Forgive us all',\n",
       " 'Forest fire near La Ronge Sask. Canada',\n",
       " \"All residents asked to 'shelter in place' are being notified by officers. No other evacuation or shelter in place orders are expected\",\n",
       " '13,000 people receive #wildfires evacuation orders in California ',\n",
       " 'Just got sent this photo from Ruby #Alaska as smoke from #wildfires pours into a school ']"
      ]
     },
     "execution_count": 5,
     "metadata": {},
     "output_type": "execute_result"
    }
   ],
   "source": [
    "list(df[df['target']==1]['text'].values[0:5])"
   ]
  },
  {
   "cell_type": "markdown",
   "metadata": {},
   "source": [
    "They, conveniently, clearly describe something terrible or unfortunate. In fact, even a pretty simple model performs reasonably well, as we'll see below."
   ]
  },
  {
   "cell_type": "markdown",
   "metadata": {},
   "source": [
    "## Model Architecture\n",
    "\n",
    "### Simple Supervised Model for Comparison"
   ]
  },
  {
   "cell_type": "markdown",
   "metadata": {},
   "source": [
    "#### Data Pre-Processing\n",
    "\n",
    "Before we get into modeling, I'll convert the texts into vectors. First, I'll create word frequencies using CountVectorizer."
   ]
  },
  {
   "cell_type": "code",
   "execution_count": 6,
   "metadata": {},
   "outputs": [],
   "source": [
    "from sklearn.feature_extraction.text import CountVectorizer\n",
    "\n",
    "count_vectors = CountVectorizer().fit_transform(df['text']).toarray()"
   ]
  },
  {
   "cell_type": "markdown",
   "metadata": {},
   "source": [
    "Now, I'll split all of these into training and test sets, since we can't test on the actual test data."
   ]
  },
  {
   "cell_type": "code",
   "execution_count": 7,
   "metadata": {},
   "outputs": [],
   "source": [
    "train_counts = count_vectors[:int(len(df)*.8)]\n",
    "train_targets = df['target'][:int(len(df)*.8)]\n",
    "test_counts = count_vectors[int(len(df)*.8):]\n",
    "\n",
    "test_targets = df['target'][int(len(df)*.8):]"
   ]
  },
  {
   "cell_type": "markdown",
   "metadata": {},
   "source": [
    "#### Supervised Model Training\n",
    "Below, I've trained a Supervised Classifer on the counts just to get a baseline for model performance. The kaggle competition recommends the RidgeClassifier for a supervised model so let's see what we get from that."
   ]
  },
  {
   "cell_type": "code",
   "execution_count": 8,
   "metadata": {},
   "outputs": [],
   "source": [
    "from sklearn.linear_model import RidgeClassifier\n",
    "\n",
    "sup_mod = RidgeClassifier().fit(train_counts, train_targets)\n"
   ]
  },
  {
   "cell_type": "markdown",
   "metadata": {},
   "source": [
    "Because the metric for this competition is the F1 score, let's see how this model performs. "
   ]
  },
  {
   "cell_type": "code",
   "execution_count": 9,
   "metadata": {},
   "outputs": [
    {
     "name": "stdout",
     "output_type": "stream",
     "text": [
      "Supervised Model F1 Score: 0.7193\n"
     ]
    }
   ],
   "source": [
    "from sklearn.metrics import f1_score\n",
    "\n",
    "sup_mod_preds = sup_mod.predict(test_counts)\n",
    "\n",
    "\n",
    "sup_mod_f1 = f1_score(sup_mod_preds, test_targets)\n",
    "\n",
    "print(\"Supervised Model F1 Score: \" + str(round(sup_mod_f1,4)))"
   ]
  },
  {
   "cell_type": "markdown",
   "metadata": {},
   "source": [
    "We can see that the performance is not abysmal. But certainly with Deep Learning with can do better."
   ]
  },
  {
   "cell_type": "markdown",
   "metadata": {},
   "source": [
    "### RNN Model\n",
    "\n",
    "#### Data Preprocessing\n",
    "\n",
    "First, I'll take the dataframe from above and extract just the text and target columns. Then, I'll split that new frame into train and test sets. I've displayed the head of the training dataframe for reference."
   ]
  },
  {
   "cell_type": "code",
   "execution_count": 10,
   "metadata": {},
   "outputs": [
    {
     "data": {
      "text/html": [
       "<div>\n",
       "<style scoped>\n",
       "    .dataframe tbody tr th:only-of-type {\n",
       "        vertical-align: middle;\n",
       "    }\n",
       "\n",
       "    .dataframe tbody tr th {\n",
       "        vertical-align: top;\n",
       "    }\n",
       "\n",
       "    .dataframe thead th {\n",
       "        text-align: right;\n",
       "    }\n",
       "</style>\n",
       "<table border=\"1\" class=\"dataframe\">\n",
       "  <thead>\n",
       "    <tr style=\"text-align: right;\">\n",
       "      <th></th>\n",
       "      <th>text</th>\n",
       "      <th>target</th>\n",
       "    </tr>\n",
       "  </thead>\n",
       "  <tbody>\n",
       "    <tr>\n",
       "      <th>1386</th>\n",
       "      <td>Ted Cruz fires back at Jeb &amp;amp; Bush: ÛÏWe l...</td>\n",
       "      <td>0</td>\n",
       "    </tr>\n",
       "    <tr>\n",
       "      <th>4048</th>\n",
       "      <td>This is the first year the Forest Service spen...</td>\n",
       "      <td>1</td>\n",
       "    </tr>\n",
       "    <tr>\n",
       "      <th>3086</th>\n",
       "      <td>@lightseraphs pissed at you and could have the...</td>\n",
       "      <td>0</td>\n",
       "    </tr>\n",
       "    <tr>\n",
       "      <th>272</th>\n",
       "      <td>I'm gonna fight Taylor as soon as I get there.</td>\n",
       "      <td>0</td>\n",
       "    </tr>\n",
       "    <tr>\n",
       "      <th>7462</th>\n",
       "      <td>@NicolaClements4 IÛªm not sure that covering ...</td>\n",
       "      <td>0</td>\n",
       "    </tr>\n",
       "  </tbody>\n",
       "</table>\n",
       "</div>"
      ],
      "text/plain": [
       "                                                   text  target\n",
       "1386  Ted Cruz fires back at Jeb &amp; Bush: ÛÏWe l...       0\n",
       "4048  This is the first year the Forest Service spen...       1\n",
       "3086  @lightseraphs pissed at you and could have the...       0\n",
       "272      I'm gonna fight Taylor as soon as I get there.       0\n",
       "7462  @NicolaClements4 IÛªm not sure that covering ...       0"
      ]
     },
     "execution_count": 10,
     "metadata": {},
     "output_type": "execute_result"
    }
   ],
   "source": [
    "from sklearn.model_selection import train_test_split\n",
    "\n",
    "model_df = df[['text', 'target']]\n",
    "\n",
    "train, test = train_test_split(model_df, test_size=.2, random_state=0)\n",
    "\n",
    "train.head()"
   ]
  },
  {
   "cell_type": "markdown",
   "metadata": {},
   "source": [
    "#### Creating the Model\n",
    "\n",
    "Rather than using word counts as above, Keras provides a great text encoder that will be the first layer of the model. This layer normalizes the text by setting all letters to a lowercase value and stripping all punctuation. Then it assigns every unique \"token\", a word or phrase, a unique integer. This converts our texts into vectors of numbers without losing any of the sequence data that is crucial to RNN modeling."
   ]
  },
  {
   "cell_type": "code",
   "execution_count": 11,
   "metadata": {},
   "outputs": [
    {
     "name": "stderr",
     "output_type": "stream",
     "text": [
      "2023-08-01 15:29:12.892737: I tensorflow/core/platform/cpu_feature_guard.cc:182] This TensorFlow binary is optimized to use available CPU instructions in performance-critical operations.\n",
      "To enable the following instructions: AVX2 FMA, in other operations, rebuild TensorFlow with the appropriate compiler flags.\n",
      "2023-08-01 15:29:17.112738: W tensorflow/compiler/tf2tensorrt/utils/py_utils.cc:38] TF-TRT Warning: Could not find TensorRT\n"
     ]
    }
   ],
   "source": [
    "import numpy as np\n",
    "from tensorflow import keras\n",
    "import tensorrt "
   ]
  },
  {
   "cell_type": "code",
   "execution_count": 14,
   "metadata": {},
   "outputs": [],
   "source": [
    "encoder = keras.layers.TextVectorization()\n",
    "encoder.adapt(np.array(train['text']))"
   ]
  },
  {
   "cell_type": "markdown",
   "metadata": {},
   "source": [
    "We can see below that the resulting vectors will be quite large. In fact, every vector will have the length of the full vocabulary. I've displayed this value below."
   ]
  },
  {
   "cell_type": "code",
   "execution_count": 15,
   "metadata": {},
   "outputs": [
    {
     "name": "stdout",
     "output_type": "stream",
     "text": [
      "19484\n"
     ]
    }
   ],
   "source": [
    "vocabulary = np.array(encoder.get_vocabulary())\n",
    "\n",
    "vocab_length = len(vocabulary)\n",
    "\n",
    "print(vocab_length)"
   ]
  },
  {
   "cell_type": "markdown",
   "metadata": {},
   "source": [
    "Because this is an extremely large length for vectors we need to perform dimensionality reduction on these vectors. To do this, I'll use an Embedding layer to reduce these down to a length of 64. This number is arbitrary but is small enough to be manageable.\n",
    "\n",
    "Next, this embedding will be passed to an RNN layer. I've chosed GRU for this to avoid the problems of traditional RNN and for it's simplicity compared to LSTM. I also found in testing that GRU performs slightly better than LSTM on this data set. I've made this layer bidirectional. According to the Keras documentation, non-temporal sequences, sequences that are not necessarily time-based, can benefit from being trained both forwards and backwards. That is, each text is used both in it's original form and reversed.\n",
    "\n",
    "In testing I found that adding a Dense layer after the GRU layer improves accuracy, much like the CNN architectures we worked with previously. Additional layers did not improve performance, however. 64 units appeared to be optimal as well. Increasing made the model perform significantly worse.\n",
    "\n",
    "Finally, this is sent to a dense layer of size 1 since this is just a binary classification problem."
   ]
  },
  {
   "cell_type": "code",
   "execution_count": 16,
   "metadata": {},
   "outputs": [],
   "source": [
    "model = keras.Sequential([\n",
    "    encoder,\n",
    "    keras.layers.Embedding(vocab_length, 64),\n",
    "    keras.layers.Bidirectional(keras.layers.GRU(64)),\n",
    "    keras.layers.Dense(64, activation='relu'),\n",
    "    keras.layers.Dense(1, activation='sigmoid')\n",
    "])"
   ]
  },
  {
   "cell_type": "code",
   "execution_count": 17,
   "metadata": {},
   "outputs": [
    {
     "name": "stdout",
     "output_type": "stream",
     "text": [
      "Model: \"sequential\"\n",
      "_________________________________________________________________\n",
      " Layer (type)                Output Shape              Param #   \n",
      "=================================================================\n",
      " text_vectorization_1 (Text  (None, None)              0         \n",
      " Vectorization)                                                  \n",
      "                                                                 \n",
      " embedding (Embedding)       (None, None, 64)          1246976   \n",
      "                                                                 \n",
      " bidirectional (Bidirection  (None, 128)               49920     \n",
      " al)                                                             \n",
      "                                                                 \n",
      " dense (Dense)               (None, 64)                8256      \n",
      "                                                                 \n",
      " dense_1 (Dense)             (None, 1)                 65        \n",
      "                                                                 \n",
      "=================================================================\n",
      "Total params: 1305217 (4.98 MB)\n",
      "Trainable params: 1305217 (4.98 MB)\n",
      "Non-trainable params: 0 (0.00 Byte)\n",
      "_________________________________________________________________\n"
     ]
    }
   ],
   "source": [
    "model.summary()"
   ]
  },
  {
   "cell_type": "markdown",
   "metadata": {},
   "source": [
    "Below, I've compiled the model. The loss function is Binary Crossentropy since this is a binary classification problem.\n",
    "\n",
    "For the optimizer, in testing Adam performed substantially better than SGD though it is also more computationally more expensive.\n",
    "\n",
    "Experimenting with learning rate decay, I found that introducing a learning rate scheduler tended to lead to the model falling into a local extrema with relatively poor accuracy."
   ]
  },
  {
   "cell_type": "code",
   "execution_count": 18,
   "metadata": {},
   "outputs": [],
   "source": [
    "model.compile(optimizer='adam', loss='binary_crossentropy', metrics=['accuracy'])"
   ]
  },
  {
   "cell_type": "markdown",
   "metadata": {},
   "source": [
    "#### Training the Model"
   ]
  },
  {
   "cell_type": "markdown",
   "metadata": {},
   "source": [
    "Here, I've trained the model. I've set the number of epochs to 10. I found that performance tends to stagnate there."
   ]
  },
  {
   "cell_type": "code",
   "execution_count": 19,
   "metadata": {},
   "outputs": [
    {
     "name": "stdout",
     "output_type": "stream",
     "text": [
      "Epoch 1/15\n"
     ]
    },
    {
     "name": "stderr",
     "output_type": "stream",
     "text": [
      "2023-08-01 15:30:37.932762: I tensorflow/compiler/xla/stream_executor/cuda/cuda_dnn.cc:432] Loaded cuDNN version 8902\n",
      "2023-08-01 15:30:38.796482: I tensorflow/compiler/xla/stream_executor/cuda/cuda_blas.cc:606] TensorFloat-32 will be used for the matrix multiplication. This will only be logged once.\n",
      "2023-08-01 15:30:40.259710: I tensorflow/compiler/xla/service/service.cc:168] XLA service 0x7f89d0e4c000 initialized for platform CUDA (this does not guarantee that XLA will be used). Devices:\n",
      "2023-08-01 15:30:40.259958: I tensorflow/compiler/xla/service/service.cc:176]   StreamExecutor device (0): NVIDIA GeForce RTX 4070, Compute Capability 8.9\n",
      "2023-08-01 15:30:40.711249: I tensorflow/compiler/mlir/tensorflow/utils/dump_mlir_util.cc:255] disabling MLIR crash reproducer, set env var `MLIR_CRASH_REPRODUCER_DIRECTORY` to enable.\n",
      "2023-08-01 15:30:42.219697: W tensorflow/compiler/xla/stream_executor/gpu/asm_compiler.cc:231] Falling back to the CUDA driver for PTX compilation; ptxas does not support CC 8.9\n",
      "2023-08-01 15:30:42.219735: W tensorflow/compiler/xla/stream_executor/gpu/asm_compiler.cc:234] Used ptxas at ptxas\n",
      "2023-08-01 15:30:42.465340: I ./tensorflow/compiler/jit/device_compiler.h:186] Compiled cluster using XLA!  This line is logged at most once for the lifetime of the process.\n"
     ]
    },
    {
     "name": "stdout",
     "output_type": "stream",
     "text": [
      "191/191 [==============================] - 30s 104ms/step - loss: 0.5410 - accuracy: 0.7176\n",
      "Epoch 2/15\n",
      "191/191 [==============================] - 7s 34ms/step - loss: 0.2738 - accuracy: 0.8906\n",
      "Epoch 3/15\n",
      "191/191 [==============================] - 3s 17ms/step - loss: 0.1231 - accuracy: 0.9545\n",
      "Epoch 4/15\n",
      "191/191 [==============================] - 4s 20ms/step - loss: 0.0656 - accuracy: 0.9787\n",
      "Epoch 5/15\n",
      "191/191 [==============================] - 3s 16ms/step - loss: 0.0495 - accuracy: 0.9847\n",
      "Epoch 6/15\n",
      "191/191 [==============================] - 3s 14ms/step - loss: 0.0321 - accuracy: 0.9910\n",
      "Epoch 7/15\n",
      "191/191 [==============================] - 2s 13ms/step - loss: 0.0223 - accuracy: 0.9939\n",
      "Epoch 8/15\n",
      "191/191 [==============================] - 2s 13ms/step - loss: 0.0165 - accuracy: 0.9954\n",
      "Epoch 9/15\n",
      "191/191 [==============================] - 2s 11ms/step - loss: 0.0119 - accuracy: 0.9956\n",
      "Epoch 10/15\n",
      "191/191 [==============================] - 2s 13ms/step - loss: 0.0124 - accuracy: 0.9952\n",
      "Epoch 11/15\n",
      "191/191 [==============================] - 2s 13ms/step - loss: 0.0097 - accuracy: 0.9967\n",
      "Epoch 12/15\n",
      "191/191 [==============================] - 3s 15ms/step - loss: 0.0098 - accuracy: 0.9956\n",
      "Epoch 13/15\n",
      "191/191 [==============================] - 3s 14ms/step - loss: 0.0085 - accuracy: 0.9966\n",
      "Epoch 14/15\n",
      "191/191 [==============================] - 3s 15ms/step - loss: 0.0102 - accuracy: 0.9957\n",
      "Epoch 15/15\n",
      "191/191 [==============================] - 2s 11ms/step - loss: 0.0082 - accuracy: 0.9962\n"
     ]
    }
   ],
   "source": [
    "history = model.fit(\n",
    "    x=train['text'],\n",
    "    y=train['target'],\n",
    "    epochs = 15\n",
    ")"
   ]
  },
  {
   "cell_type": "markdown",
   "metadata": {},
   "source": [
    "### Results/Conclusion\n",
    "\n",
    "#### Visualizing Training Results"
   ]
  },
  {
   "cell_type": "markdown",
   "metadata": {},
   "source": [
    "I've visualized the training results. We can see that performance improves steadily until around 10 or 11 epochs."
   ]
  },
  {
   "cell_type": "code",
   "execution_count": 20,
   "metadata": {},
   "outputs": [
    {
     "data": {
      "image/png": "[encoded data removed]",
      "text/plain": [
       "<Figure size 800x400 with 2 Axes>"
      ]
     },
     "metadata": {},
     "output_type": "display_data"
    }
   ],
   "source": [
    "import matplotlib.pyplot as plt\n",
    "\n",
    "# Training history\n",
    "history_dict = history.history\n",
    "  \n",
    "acc = history_dict['accuracy']\n",
    "  \n",
    "loss = history_dict['loss']\n",
    "  \n",
    "# Plotting\n",
    "plt.figure(figsize=(8, 4))\n",
    "plt.subplot(1, 2, 1)\n",
    "plt.plot(acc)\n",
    "plt.title('TrainingAccuracy')\n",
    "plt.xlabel('Epochs')\n",
    "plt.ylabel('Accuracy')\n",
    "plt.legend(['Accuracy'])\n",
    "  \n",
    "plt.subplot(1, 2, 2)\n",
    "plt.plot(loss)\n",
    "plt.title('Training Loss')\n",
    "plt.xlabel('Epochs')\n",
    "plt.ylabel('Loss')\n",
    "plt.legend(['Loss'])\n",
    "  \n",
    "plt.show()"
   ]
  },
  {
   "cell_type": "markdown",
   "metadata": {},
   "source": [
    "### F1 Test Results\n",
    "\n",
    "Now, let's see how this model performs with respect to the F1 metric, the metric this competition is interested in.\n",
    "\n",
    "First, I'll predict on the test data set and then calculate the F1 using those predictions."
   ]
  },
  {
   "cell_type": "code",
   "execution_count": 21,
   "metadata": {},
   "outputs": [
    {
     "name": "stdout",
     "output_type": "stream",
     "text": [
      "48/48 [==============================] - 1s 4ms/step\n"
     ]
    }
   ],
   "source": [
    "predictions = (model.predict(test['text']) > 0.5).astype(\"int32\")"
   ]
  },
  {
   "cell_type": "code",
   "execution_count": 22,
   "metadata": {},
   "outputs": [
    {
     "name": "stdout",
     "output_type": "stream",
     "text": [
      "0.7272727272727273\n"
     ]
    }
   ],
   "source": [
    "from sklearn.metrics import accuracy_score\n",
    "\n",
    "mod_f1 = f1_score(predictions.astype(int), test['target'])\n",
    "\n",
    "mod_acc = accuracy_score(predictions.astype(int), test['target'])\n",
    "\n",
    "print(mod_f1)"
   ]
  },
  {
   "cell_type": "markdown",
   "metadata": {},
   "source": [
    "We can see that the RNN model substantially improves on the standard supervised model!"
   ]
  },
  {
   "cell_type": "markdown",
   "metadata": {},
   "source": [
    "## Predictions for Kaggle\n",
    "\n",
    "Below I've made predictions for my Kaggle entry. First I've retrained the model using the complete training data."
   ]
  },
  {
   "cell_type": "code",
   "execution_count": 23,
   "metadata": {},
   "outputs": [
    {
     "name": "stdout",
     "output_type": "stream",
     "text": [
      "Epoch 1/10\n",
      "238/238 [==============================] - 3s 13ms/step - loss: 0.1575 - accuracy: 0.9503\n",
      "Epoch 2/10\n",
      "238/238 [==============================] - 4s 15ms/step - loss: 0.0626 - accuracy: 0.9781\n",
      "Epoch 3/10\n",
      "238/238 [==============================] - 3s 11ms/step - loss: 0.0355 - accuracy: 0.9869\n",
      "Epoch 4/10\n",
      "238/238 [==============================] - 3s 11ms/step - loss: 0.0215 - accuracy: 0.9909\n",
      "Epoch 5/10\n",
      "238/238 [==============================] - 3s 11ms/step - loss: 0.0217 - accuracy: 0.9904\n",
      "Epoch 6/10\n",
      "238/238 [==============================] - 3s 11ms/step - loss: 0.0176 - accuracy: 0.9921\n",
      "Epoch 7/10\n",
      "238/238 [==============================] - 3s 12ms/step - loss: 0.0127 - accuracy: 0.9932\n",
      "Epoch 8/10\n",
      "238/238 [==============================] - 3s 11ms/step - loss: 0.0110 - accuracy: 0.9941\n",
      "Epoch 9/10\n",
      "238/238 [==============================] - 2s 9ms/step - loss: 0.0099 - accuracy: 0.9941\n",
      "Epoch 10/10\n",
      "238/238 [==============================] - 3s 15ms/step - loss: 0.0098 - accuracy: 0.9946\n"
     ]
    },
    {
     "data": {
      "text/plain": [
       "<keras.src.callbacks.History at 0x7f8a85f52e20>"
      ]
     },
     "execution_count": 23,
     "metadata": {},
     "output_type": "execute_result"
    }
   ],
   "source": [
    "model.fit(\n",
    "    x=model_df['text'],\n",
    "    y=model_df['target'],\n",
    "    epochs = 10\n",
    ")"
   ]
  },
  {
   "cell_type": "code",
   "execution_count": 24,
   "metadata": {},
   "outputs": [],
   "source": [
    "kaggle_test = pd.read_csv('test.csv')\n",
    "kaggle_test_data = kaggle_test[['text']]"
   ]
  },
  {
   "cell_type": "code",
   "execution_count": 25,
   "metadata": {},
   "outputs": [
    {
     "name": "stdout",
     "output_type": "stream",
     "text": [
      "102/102 [==============================] - 1s 6ms/step\n"
     ]
    }
   ],
   "source": [
    "kaggle_predictions = (model.predict(kaggle_test_data) > 0.5).astype(\"int32\")"
   ]
  },
  {
   "cell_type": "code",
   "execution_count": 36,
   "metadata": {},
   "outputs": [
    {
     "name": "stdout",
     "output_type": "stream",
     "text": [
      "3263\n",
      "3263\n"
     ]
    },
    {
     "data": {
      "text/html": [
       "<div>\n",
       "<style scoped>\n",
       "    .dataframe tbody tr th:only-of-type {\n",
       "        vertical-align: middle;\n",
       "    }\n",
       "\n",
       "    .dataframe tbody tr th {\n",
       "        vertical-align: top;\n",
       "    }\n",
       "\n",
       "    .dataframe thead th {\n",
       "        text-align: right;\n",
       "    }\n",
       "</style>\n",
       "<table border=\"1\" class=\"dataframe\">\n",
       "  <thead>\n",
       "    <tr style=\"text-align: right;\">\n",
       "      <th></th>\n",
       "      <th>id</th>\n",
       "      <th>target</th>\n",
       "    </tr>\n",
       "  </thead>\n",
       "  <tbody>\n",
       "    <tr>\n",
       "      <th>0</th>\n",
       "      <td>0</td>\n",
       "      <td>1</td>\n",
       "    </tr>\n",
       "    <tr>\n",
       "      <th>1</th>\n",
       "      <td>2</td>\n",
       "      <td>1</td>\n",
       "    </tr>\n",
       "    <tr>\n",
       "      <th>2</th>\n",
       "      <td>3</td>\n",
       "      <td>1</td>\n",
       "    </tr>\n",
       "    <tr>\n",
       "      <th>3</th>\n",
       "      <td>9</td>\n",
       "      <td>1</td>\n",
       "    </tr>\n",
       "    <tr>\n",
       "      <th>4</th>\n",
       "      <td>11</td>\n",
       "      <td>1</td>\n",
       "    </tr>\n",
       "  </tbody>\n",
       "</table>\n",
       "</div>"
      ],
      "text/plain": [
       "   id  target\n",
       "0   0       1\n",
       "1   2       1\n",
       "2   3       1\n",
       "3   9       1\n",
       "4  11       1"
      ]
     },
     "execution_count": 36,
     "metadata": {},
     "output_type": "execute_result"
    }
   ],
   "source": [
    "print(len(list(kaggle_test['id'])))\n",
    "print(len(list(kaggle_predictions)))\n",
    "\n",
    "submission = pd.DataFrame({'id':list(kaggle_test['id']), 'target':(x[0] for x in list(kaggle_predictions))})\n",
    "\n",
    "submission.head()"
   ]
  },
  {
   "cell_type": "code",
   "execution_count": 38,
   "metadata": {},
   "outputs": [],
   "source": [
    "submission.to_csv('submission.csv', index=False)"
   ]
  },
  {
   "cell_type": "code",
   "execution_count": null,
   "metadata": {},
   "outputs": [],
   "source": []
  }
 ],
 "metadata": {
  "kernelspec": {
   "display_name": "Python 3",
   "language": "python",
   "name": "python3"
  },
  "language_info": {
   "codemirror_mode": {
    "name": "ipython",
    "version": 3
   },
   "file_extension": ".py",
   "mimetype": "text/x-python",
   "name": "python",
   "nbconvert_exporter": "python",
   "pygments_lexer": "ipython3",
   "version": "3.9.17"
  },
  "orig_nbformat": 4
 },
 "nbformat": 4,
 "nbformat_minor": 2
}
